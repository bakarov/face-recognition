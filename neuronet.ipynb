{
 "cells": [
  {
   "cell_type": "code",
   "execution_count": 5,
   "metadata": {
    "collapsed": false
   },
   "outputs": [],
   "source": [
    "from keras.layers import Input, Convolution2D, MaxPooling2D, Dense, Dropout, Flatten, Activation\n",
    "from keras.utils import np_utils\n",
    "from keras.models import Model, Sequential  \n",
    "\n",
    "def create_model():\n",
    "    height, width, deph = 96,96,1\n",
    "    batch_size = 512\n",
    "    num_epochs = 10\n",
    "    hidden_size = 512 \n",
    "    num_classes = 2 \n",
    "    conv_depth_1 = 24\n",
    "    pool_size = (2, 2)\n",
    "    kernel_size = 2\n",
    "    drop_prob_1 = 0.25\n",
    "    drop_prob_2 = 0.5\n",
    "    inp = Input(shape=(1, height, width))\n",
    "    conv_1 = Convolution2D(24, 2, 2, border_mode='same', activation='relu')(inp)\n",
    "    drop_1 = Dropout(drop_prob_1)(conv_1)\n",
    "    flat_1=Flatten()(drop_1)\n",
    "\n",
    "    hidden_1 = Dense(batch_size, activation='relu')(flat_1)\n",
    "    drop_2 = Dropout(drop_prob_2)(hidden_1)\n",
    "    out = Dense(num_classes, activation='softmax')(drop_2)\n",
    "\n",
    "    model = Model(input=inp, output=out)\n",
    "\n",
    "    model.compile(loss='categorical_crossentropy',\n",
    "                 optimizer='adam',\n",
    "                 metrics=['accuracy'])\n",
    "    return model"
   ]
  },
  {
   "cell_type": "code",
   "execution_count": 6,
   "metadata": {
    "collapsed": true
   },
   "outputs": [],
   "source": [
    "import os\n",
    "import scipy.io as sio\n",
    "import scipy\n",
    "\n",
    "def read_jpeg(path):\n",
    "    im = Image.open(path).convert('L')\n",
    "    X = list(im.getdata())\n",
    "    X = np.array(X)\n",
    "    return X\n",
    "\n",
    "def read_jpeg_training_data():\n",
    "    x_train = []\n",
    "    y_train = []\n",
    "    length = 0\n",
    "    dirpath = 'data/positive'\n",
    "    img_ext = '.png' \n",
    "    img_names = [ os.path.join(dirpath,x) for x in os.listdir( dirpath ) if x.endswith(img_ext) ]\n",
    "    length += len(img_names)\n",
    "    for i in img_names:\n",
    "        x_train.append(read_jpeg(i))\n",
    "        y_train.append(1)  \n",
    "    dirpath = 'data/negative'\n",
    "    img_names = [ os.path.join(dirpath,x) for x in os.listdir( dirpath ) if x.endswith(img_ext) ]\n",
    "    for i in img_names:\n",
    "        x_train.append(read_jpeg(i))\n",
    "        y_train.append(0) \n",
    "    length += len(img_names)\n",
    "    return x_train, y_train, length   \n",
    "\n",
    "def train_model(model):\n",
    "    batch_size = 512\n",
    "    num_epochs = 10\n",
    "    height, width, deph = 96,96,1\n",
    "    x_train, y_train, set_size = read_jpeg_training_data()\n",
    "    y_train = np_utils.to_categorical(y_train, 2) \n",
    "    x_train = np.array(x_train)\n",
    "    x_train = x_train.astype('float32')\n",
    "    x_train /= 225\n",
    "    x_train = x_train.reshape(set_size,1,height,width)\n",
    "    model.fit(x_train, y_train, batch_size = batch_size, nb_epoch = num_epochs, verbose=1)\n",
    "    return model\n"
   ]
  },
  {
   "cell_type": "markdown",
   "metadata": {},
   "source": [
    "Define model"
   ]
  },
  {
   "cell_type": "code",
   "execution_count": 7,
   "metadata": {
    "collapsed": false
   },
   "outputs": [
    {
     "name": "stdout",
     "output_type": "stream",
     "text": [
      "Epoch 1/10\n",
      "84/84 [==============================] - 0s - loss: 0.9093 - acc: 0.4643\n",
      "Epoch 2/10\n",
      "84/84 [==============================] - 0s - loss: 3.3814 - acc: 0.5714\n",
      "Epoch 3/10\n",
      "84/84 [==============================] - 0s - loss: 1.3801 - acc: 0.5714\n",
      "Epoch 4/10\n",
      "84/84 [==============================] - 0s - loss: 0.5229 - acc: 0.7500\n",
      "Epoch 5/10\n",
      "84/84 [==============================] - 0s - loss: 0.6600 - acc: 0.6071\n",
      "Epoch 6/10\n",
      "84/84 [==============================] - 0s - loss: 0.6835 - acc: 0.6071\n",
      "Epoch 7/10\n",
      "84/84 [==============================] - 0s - loss: 0.5396 - acc: 0.7143\n",
      "Epoch 8/10\n",
      "84/84 [==============================] - 0s - loss: 0.4463 - acc: 0.8095\n",
      "Epoch 9/10\n",
      "84/84 [==============================] - 0s - loss: 0.4764 - acc: 0.7143\n",
      "Epoch 10/10\n",
      "84/84 [==============================] - 0s - loss: 0.4107 - acc: 0.7381\n"
     ]
    }
   ],
   "source": [
    "model = create_model()\n",
    "model = train_model(model)"
   ]
  },
  {
   "cell_type": "markdown",
   "metadata": {},
   "source": [
    "Evaluator"
   ]
  },
  {
   "cell_type": "code",
   "execution_count": 12,
   "metadata": {
    "collapsed": false
   },
   "outputs": [
    {
     "name": "stdout",
     "output_type": "stream",
     "text": [
      "1/1 [==============================] - 0s\n",
      "True\n"
     ]
    }
   ],
   "source": [
    "import numpy as np\n",
    "import csv\n",
    "import os.path\n",
    "from pandas import read_csv\n",
    "from keras.utils import np_utils \n",
    "from PIL import Image\n",
    "\n",
    "def evaluate_numpy_array(img):\n",
    "    assert isinstance(img, np.ndarray)\n",
    "    img = img.reshape(1,1,96,96)\n",
    "    predictions = model.predict(img, batch_size=32, verbose=1)\n",
    "    return bool(int(round(predictions[0][1])))\n",
    "        \n",
    "\n",
    "def read_jpeg(path):\n",
    "    im = Image.open(path).convert('L')\n",
    "    X = list(im.getdata())\n",
    "    X = np.array(X)\n",
    "    return X\n",
    "\n",
    "path = 'data/test/test.png'\n",
    "if not (os.path.exists(path)):\n",
    "    print(\"No such file!\")\n",
    "else:\n",
    "    img = read_jpeg(path) \n",
    "    y_test = []\n",
    "    y_test.append(1)\n",
    "    y_test = np_utils.to_categorical(y_test, 2) \n",
    "    print(evaluate_numpy_array(img))"
   ]
  },
  {
   "cell_type": "markdown",
   "metadata": {
    "collapsed": true
   },
   "source": [
    "Serializator"
   ]
  },
  {
   "cell_type": "code",
   "execution_count": 4,
   "metadata": {
    "collapsed": true
   },
   "outputs": [],
   "source": [
    "def save_model(model):\n",
    "    model_json = model.to_json()\n",
    "    with open(\"network.json\", \"w\") as json_file:\n",
    "        json_file.write(model_json)\n",
    "    model.save_weights(\"network.csv\")"
   ]
  },
  {
   "cell_type": "markdown",
   "metadata": {},
   "source": [
    "Deserializator"
   ]
  },
  {
   "cell_type": "code",
   "execution_count": 5,
   "metadata": {
    "collapsed": true
   },
   "outputs": [],
   "source": [
    "from keras.models import model_from_json\n",
    "\n",
    "def load_model():\n",
    "    json_file = open('network.json', 'r')\n",
    "    loaded_model_json = json_file.read()\n",
    "    json_file.close()\n",
    "    model = model_from_json(loaded_model_json)\n",
    "    model.load_weights(\"network.csv\")\n",
    "    return model"
   ]
  },
  {
   "cell_type": "code",
   "execution_count": null,
   "metadata": {
    "collapsed": true
   },
   "outputs": [],
   "source": [
    "#test"
   ]
  }
 ],
 "metadata": {
  "kernelspec": {
   "display_name": "Python 3",
   "language": "python",
   "name": "python3"
  },
  "language_info": {
   "codemirror_mode": {
    "name": "ipython",
    "version": 3
   },
   "file_extension": ".py",
   "mimetype": "text/x-python",
   "name": "python",
   "nbconvert_exporter": "python",
   "pygments_lexer": "ipython3",
   "version": "3.6.0"
  }
 },
 "nbformat": 4,
 "nbformat_minor": 2
}
