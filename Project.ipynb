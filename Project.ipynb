{
 "cells": [
  {
   "cell_type": "code",
   "execution_count": 4,
   "metadata": {
    "collapsed": false
   },
   "outputs": [],
   "source": [
    "import os\n",
    "import cv2\n",
    "import PIL\n",
    "import sys\n",
    "import csv\n",
    "import copy\n",
    "import scipy\n",
    "import base64\n",
    "import cv2 as cv \n",
    "import scipy.misc\n",
    "import numpy as np\n",
    "from PIL import Image\n",
    "import scipy.io as sio\n",
    "from pandas import read_csv\n",
    "from keras.utils import np_utils\n",
    "from keras.models import Model, Sequential, model_from_json  \n",
    "from keras.layers import Input, Convolution2D, MaxPooling2D, Dense, Dropout, Flatten, Activation"
   ]
  },
  {
   "cell_type": "code",
   "execution_count": 7,
   "metadata": {
    "collapsed": false
   },
   "outputs": [],
   "source": [
    "class OpenCv:\n",
    "    @staticmethod\n",
    "    def countOfImage(path):\n",
    "        dirs = os.listdir(path)\n",
    "        i = 0\n",
    "        for f in dirs:\n",
    "            i += 1\n",
    "        print(i)\n",
    "        return i\n",
    "    \n",
    "    @staticmethod\n",
    "    def learn (self, pathToDatas, pathToCascade):\n",
    "        \n",
    "        countPos = self.countOfImage(pathToDatas + '\\\\positive')\n",
    "        countNeg = self.countOfImage(pathToDatas + '\\\\negative')\n",
    "        if os.path.exists(pathToCascade):\n",
    "            print(\"Directory to createdCascade already exists!\")\n",
    "            #return\n",
    "        #os.makedirs(pathToCascade)\n",
    "        os.system(r'opencv_createsamples -info ' + pathToDatas + '\\\\positive.dat -vec ' + \n",
    "                  pathToDatas +'\\\\samples.vec -w 30 -h 30')\n",
    "\n",
    "        os.system(r'opencv_traincascade -data ' + pathToCascade + ' -vec ' + pathToDatas +\n",
    "                  '\\\\samples.vec -bg ' + pathToDatas + \n",
    "                  '\\\\negative.dat -numStages 16 -minHitRate 0.999 -maxFalseAlarmRate 0.5 -numPos ' + \n",
    "                  #'15' + ' -numNeg ' + '24' + \n",
    "                  str(0.8*countPos) + ' -numNeg ' + str(0.8*countNeg) + \n",
    "                  ' -w 30 -h 30 -mode ALL -precalcValBufSize 1024 -precalcIdxBufSize 1024')\n",
    "        \n",
    "     \n",
    "    #str(countPos) + ' -numNeg ' + str(countNeg) + \n",
    "    ##numPos and numNeg should not be static!\n",
    "    @staticmethod\n",
    "    def detectFaceOnImage(nameOfImage):\n",
    "        cascade = cv.CascadeClassifier( \"Haar3/cascade.xml\") \n",
    "        #img = cv.imread(nameOfImage, 1)\n",
    "        img = nameOfImage\n",
    "        crop_img = copy.deepcopy(img)\n",
    "        rects = cascade.detectMultiScale(img, scaleFactor=1.01, minNeighbors = 4, minSize= (40, 40)) \n",
    "        #Delete this block in future\n",
    "        #if (rects != () ):  \n",
    "        if (len(rects) != 0 ):\n",
    "            coords = rects[rects[:,2].argmax(axis=0),:] # string with max elem in 3rd coloumn\n",
    "        else:\n",
    "            print (\"No face was detected\")\n",
    "            return None, None \n",
    "        \n",
    "        for x, y, w, h in rects: \n",
    "            img = cv.rectangle(img, (x, y), (x+w, y+h), (0,0,255), 2) \n",
    "        \n",
    "        cor = np.array([coords[0],coords[1],coords[0]+coords[2],coords[1]+coords[3]])\n",
    "        crop_img = crop_img[coords[1]:coords[1]+coords[3], coords[0]:coords[0]+coords[2]]\n",
    "        rez_img = PIL.Image.fromarray(crop_img)\n",
    "        rez_img = rez_img.resize((96,96), PIL.Image.ANTIALIAS)\n",
    "        return cor, rez_img\n",
    "    \n",
    "    @staticmethod\n",
    "    def defaultHaarClassificator(nameOfImage):\n",
    "        face_cascade = cv2.CascadeClassifier('haarcascade_frontalface_default.xml')\n",
    "        #img = cv.imread(nameOfImage, 1)\n",
    "        img = nameOfImage\n",
    "        crop_img = copy.deepcopy(img)\n",
    "        gray = cv2.cvtColor(img, cv2.COLOR_BGR2GRAY)\n",
    "        rects = face_cascade.detectMultiScale(gray, 1.3, 5)\n",
    "        if (len(rects) != 0 ): \n",
    "            coords = rects[rects[:,2].argmax(axis=0),:] # string with max elem in 3rd coloumn\n",
    "        else:\n",
    "            print (\"No face was detected\")\n",
    "            return None, None\n",
    "        \n",
    "        cor = np.array([coords[0], coords[1], coords[0]+coords[2], coords[1]+coords[3]])\n",
    "        crop_img = crop_img[coords[1]:coords[1]+coords[3], coords[0]:coords[0]+coords[2]]\n",
    "        rez_img = PIL.Image.fromarray(crop_img)\n",
    "        rez_img = rez_img.resize((96,96), PIL.Image.ANTIALIAS)\n",
    "        return cor, rez_img\n"
   ]
  },
  {
   "cell_type": "code",
   "execution_count": 8,
   "metadata": {
    "collapsed": false
   },
   "outputs": [
    {
     "name": "stdout",
     "output_type": "stream",
     "text": [
      "11543\n",
      "94702\n",
      "Directory to createdCascade already exists!\n"
     ]
    }
   ],
   "source": [
    "o = OpenCv()\n",
    "o.learn(o, 'datas','CompTechCascade')"
   ]
  },
  {
   "cell_type": "code",
   "execution_count": null,
   "metadata": {
    "collapsed": true
   },
   "outputs": [],
   "source": []
  },
  {
   "cell_type": "code",
   "execution_count": 3,
   "metadata": {
    "collapsed": false
   },
   "outputs": [],
   "source": [
    "def CNN(image):\n",
    "    def create_model():\n",
    "        height, width, deph = 96,96,1\n",
    "        batch_size = 512\n",
    "        num_epochs = 5\n",
    "        hidden_size = 512 \n",
    "        num_classes = 2 \n",
    "        conv_depth_1 = 24\n",
    "        pool_size = (2, 2)\n",
    "        kernel_size = 2\n",
    "        drop_prob_1 = 0.25\n",
    "        drop_prob_2 = 0.5\n",
    "\n",
    "        inp = Input(shape=(1, height, width))\n",
    "        conv_1 = Convolution2D(24, 2, 2, border_mode='same', activation='relu')(inp)\n",
    "        drop_1 = Dropout(drop_prob_1)(conv_1)\n",
    "        flat_1=Flatten()(drop_1)\n",
    "\n",
    "        hidden_1 = Dense(batch_size, activation='relu')(flat_1)\n",
    "        drop_2 = Dropout(drop_prob_2)(hidden_1)\n",
    "        out = Dense(num_classes, activation='softmax')(drop_2)\n",
    "\n",
    "        model = Model(input=inp, output=out)\n",
    "\n",
    "        model.compile(loss='categorical_crossentropy',\n",
    "                     optimizer='adam',\n",
    "                     metrics=['accuracy'])\n",
    "        return model\n",
    "\n",
    "    def read_jpeg_training_data():\n",
    "        x_train = []\n",
    "        y_train = []\n",
    "        length = 0\n",
    "        dirpath = 'datas/positive'\n",
    "        img_ext = '.png' \n",
    "        img_names = [ os.path.join(dirpath,x) for x in os.listdir( dirpath ) if x.endswith(img_ext) ]\n",
    "        length += len(img_names)\n",
    "        for i in img_names:\n",
    "            x_train.append(read_jpeg(i))\n",
    "            y_train.append(1)  \n",
    "        dirpath = 'datas/negative'\n",
    "        img_names = [ os.path.join(dirpath,x) for x in os.listdir( dirpath ) if x.endswith(img_ext) ]\n",
    "        for i in img_names:\n",
    "            x_train.append(read_jpeg(i))\n",
    "            y_train.append(0) \n",
    "        length += len(img_names)\n",
    "        return x_train, y_train, length   \n",
    "\n",
    "    def train_model(model):\n",
    "        batch_size = 512\n",
    "        num_epochs = 5\n",
    "        height, width, deph = 96,96,1\n",
    "        x_train, y_train, set_size = read_jpeg_training_data()\n",
    "        y_train = np_utils.to_categorical(y_train, 2) \n",
    "        x_train = np.array(x_train)\n",
    "        x_train = x_train.astype('float32')\n",
    "        x_train /= 225\n",
    "        x_train = x_train.reshape(set_size,1,height,width)\n",
    "        model.fit(x_train, y_train, batch_size = batch_size, nb_epoch = num_epochs, verbose=0,validation_split=0.05)\n",
    "        return model\n",
    "\n",
    "    def evaluate_numpy_array(img):\n",
    "        assert isinstance(img, np.ndarray)\n",
    "        model = load_model()\n",
    "        img = img.reshape(1,1,96,96)\n",
    "        predictions = model.predict(img, batch_size=32, verbose=0)\n",
    "        \n",
    "        return bool(int(round(predictions[0][1])))\n",
    "\n",
    "    def read_jpeg(path):\n",
    "        im = Image.open(path).convert('L')\n",
    "        X = list(im.getdata())\n",
    "        X = np.array(X)\n",
    "        return X\n",
    "\n",
    "    def converet_PIL_img(img):\n",
    "        img = img.convert('L')\n",
    "        img = list(img.getdata())\n",
    "        return (np.array(img))\n",
    "\n",
    "    def load_model():\n",
    "        json_file = open('network.json', 'r')\n",
    "        loaded_model_json = json_file.read()\n",
    "        json_file.close()\n",
    "        model = model_from_json(loaded_model_json)\n",
    "        model.load_weights(\"network.csv\")\n",
    "        return model\n",
    "\n",
    "    def save_model(model):\n",
    "        model_json = model.to_json()\n",
    "        with open(\"network.json\", \"w\") as json_file:\n",
    "            json_file.write(model_json)\n",
    "        model.save_weights(\"network.csv\")\n",
    "    \n",
    "    \n",
    "    return evaluate_numpy_array(converet_PIL_img(image))\n",
    "    "
   ]
  },
  {
   "cell_type": "code",
   "execution_count": 4,
   "metadata": {
    "collapsed": false
   },
   "outputs": [],
   "source": [
    "def faceDetector(base64Img):\n",
    "    \n",
    "    imgdata = base64.b64decode(base64Img)\n",
    "    filename = 'encode_image.jpg'  \n",
    "    with open(filename, 'wb') as f:\n",
    "        f.write(imgdata)\n",
    "\n",
    "    image = cv.imread('encode_image.jpg', 1)    \n",
    "    \n",
    "    o = OpenCv()\n",
    "    #x, img = o.detectFaceOnImage(image)\n",
    "    x, img = o.defaultHaarClassificator(image)\n",
    "    #o.learn(o, 'datas','CompTech')\n",
    "\n",
    "    if (img):\n",
    "        if (CNN(img)):\n",
    "            return (x)\n",
    "        else:\n",
    "            return False \n",
    "    else:\n",
    "        return False"
   ]
  },
  {
   "cell_type": "code",
   "execution_count": 5,
   "metadata": {
    "collapsed": false
   },
   "outputs": [
    {
     "name": "stdout",
     "output_type": "stream",
     "text": [
      "[ 49 245 342 538]\n"
     ]
    }
   ],
   "source": [
    "import base64\n",
    "test_im = open(\"Artem.jpg\", 'rb').read() \n",
    "enc_base64_img = base64.b64encode(test_im)\n",
    "faceDetector(enc_base64_img)\n",
    "print(faceDetector(enc_base64_img))\n",
    "\n"
   ]
  },
  {
   "cell_type": "code",
   "execution_count": null,
   "metadata": {
    "collapsed": false
   },
   "outputs": [],
   "source": []
  },
  {
   "cell_type": "code",
   "execution_count": 7,
   "metadata": {
    "collapsed": false
   },
   "outputs": [
    {
     "name": "stdout",
     "output_type": "stream",
     "text": [
      "11543\n",
      "54791\n"
     ]
    }
   ],
   "source": [
    "o = OpenCv()\n",
    "o.learn(o, 'datas','CompTechCascade')\n",
    "#x, img = o.defaultHaarClassificator('Artem.jpg')\n",
    "#%matplotlib inline\n",
    "#from matplotlib import pyplot as plt\n",
    "#plt.imshow(img)\n",
    "#plt.show()\n"
   ]
  },
  {
   "cell_type": "code",
   "execution_count": null,
   "metadata": {
    "collapsed": true
   },
   "outputs": [],
   "source": []
  }
 ],
 "metadata": {
  "anaconda-cloud": {},
  "kernelspec": {
   "display_name": "Python [Root]",
   "language": "python",
   "name": "Python [Root]"
  },
  "language_info": {
   "codemirror_mode": {
    "name": "ipython",
    "version": 3
   },
   "file_extension": ".py",
   "mimetype": "text/x-python",
   "name": "python",
   "nbconvert_exporter": "python",
   "pygments_lexer": "ipython3",
   "version": "3.5.2"
  }
 },
 "nbformat": 4,
 "nbformat_minor": 0
}
